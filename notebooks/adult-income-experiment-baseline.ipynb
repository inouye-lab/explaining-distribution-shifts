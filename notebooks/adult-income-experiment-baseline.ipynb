{
 "cells": [
  {
   "cell_type": "code",
   "execution_count": 1,
   "id": "d05cab18",
   "metadata": {},
   "outputs": [],
   "source": [
    "import matplotlib.pyplot as plt\n",
    "import numpy as np\n",
    "import pandas as pd\n",
    "from pathlib import Path\n",
    "import seaborn as sn"
   ]
  },
  {
   "cell_type": "code",
   "execution_count": 2,
   "id": "d6302d10",
   "metadata": {},
   "outputs": [],
   "source": [
    "# Setting so that the plots look normal even when using dark-reader\n",
    "sn.set_style(\"whitegrid\")\n",
    "sn.set_context(context=\"paper\", font_scale=2)\n",
    "pal = sn.color_palette(\"Set1\")\n",
    "\n",
    "# Setting up specifics for plotting + saving\n",
    "save_figures = True\n",
    "add_legend = False\n",
    "add_title = False\n",
    "add_axis = False\n",
    "save_parms = {'format': 'pdf','bbox_inches':'tight', 'pad_inches':0}\n",
    "line_parms = {'linewidth':4, 'color':'k'}\n",
    "if save_figures:  # saves all figures in a figure directory in the local directory\n",
    "    figure_dir = Path('.') / 'figures' / 'adult-income-experiment'\n",
    "    if not figure_dir.exists():\n",
    "        figure_dir.mkdir(parents=True)"
   ]
  },
  {
   "cell_type": "code",
   "execution_count": 3,
   "id": "d6302d10",
   "metadata": {},
   "outputs": [],
   "source": [
    "# Experiment hyperparamters\n",
    "rng = np.random.RandomState(42)\n",
    "split_on_income = False  # if True: src := income>=50k, tgt :+ income<50k, if False: src := male, tgt := female\n",
    "n_samples = 1000"
   ]
  },
  {
   "cell_type": "code",
   "execution_count": 4,
   "id": "dade2b7e",
   "metadata": {},
   "outputs": [
    {
     "name": "stdout",
     "output_type": "stream",
     "text": [
      "Finished preprocessing adult income dataset.  Split on sex with resulting source shape: (1000, 3), target shape: (1000, 3).\n"
     ]
    }
   ],
   "source": [
    "# Loading in adult income dataset\n",
    "from data_utils import load_and_preprocess_adult_income_dataset\n",
    "# We will be using data from  the UCI: adult income data set\n",
    "# Link: https://archive.ics.uci.edu/ml/datasets/adult/\n",
    "data_dir = Path('../data/adult-income')\n",
    "\n",
    "source, target, feature_names = load_and_preprocess_adult_income_dataset(\n",
    "            data_dir, split_on_income, rng, n_samples, return_column_names=True)"
   ]
  },
  {
   "cell_type": "code",
   "execution_count": 5,
   "id": "296df3b5",
   "metadata": {},
   "outputs": [],
   "source": [
    "# standardize the source and target data, and convert to domain labels\n",
    "from sklearn.preprocessing import StandardScaler\n",
    "X = np.concatenate((source, target), axis=0)\n",
    "# standardize X to remove cardinatlity bias\n",
    "X = StandardScaler().fit_transform(X)\n",
    "y = np.concatenate((np.zeros(source.shape[0]),\n",
    "                    np.ones(target.shape[0])), axis=0)  # domain labels"
   ]
  },
  {
   "cell_type": "code",
   "execution_count": 6,
   "id": "c5422e1f",
   "metadata": {},
   "outputs": [],
   "source": [
    "from sklearn.datasets import make_classification\n",
    "from sklearn.model_selection import train_test_split\n",
    "\n",
    "X_train, X_test, y_train, y_test = train_test_split(X, y,\n",
    "                                     stratify=y, random_state=42)"
   ]
  },
  {
   "cell_type": "code",
   "execution_count": 7,
   "id": "5d9ba299",
   "metadata": {},
   "outputs": [],
   "source": [
    "# Using XGBoost\n",
    "import xgboost\n",
    "\n",
    "def fit_xgboost(X_train, y_train, X_test, y_test, feature_names=None):\n",
    "    \"\"\" Train an XGBoost model with early stopping.\n",
    "    \"\"\"\n",
    "    dtrain = xgboost.DMatrix(X_train, label=y_train, feature_names=feature_names)\n",
    "    dtest = xgboost.DMatrix(X_test, label=y_test, feature_names=feature_names)\n",
    "    # model = xgboost.train(\n",
    "    #     { \"eta\": 0.001, \"subsample\": 0.5, \"max_depth\": 2,\n",
    "    #       \"objective\": 'binary:logistic', 'eval_metric': 'logloss'}, dtrain, num_boost_round=200000,\n",
    "    #     evals=[(dtest,'eval'), (dtrain,'train')], early_stopping_rounds=20, verbose_eval=False\n",
    "    # )\n",
    "    model = xgboost.train(\n",
    "        {\"objective\": 'binary:logistic', 'eval_metric': 'logloss'},\n",
    "        dtrain,\n",
    "        evals=[(dtest,'eval'), (dtrain,'train')],\n",
    "        verbose_eval=False)\n",
    "    return model"
   ]
  },
  {
   "cell_type": "code",
   "execution_count": 8,
   "id": "bd7ac9f1",
   "metadata": {},
   "outputs": [],
   "source": [
    "xgb_forest = fit_xgboost(X_train, y_train, X_test, y_test, feature_names)\n",
    "xgb_forest.feature_names = feature_names"
   ]
  },
  {
   "cell_type": "code",
   "execution_count": 9,
   "id": "dcaa3020",
   "metadata": {},
   "outputs": [],
   "source": [
    "def get_acc(model, samples, labels, feature_names=None):\n",
    "    predictions = (model.predict(xgboost.DMatrix(samples,\n",
    "                                                 feature_names=feature_names)) > 0.5).astype(int)\n",
    "    return (predictions == labels).sum() / predictions.shape[0]"
   ]
  },
  {
   "cell_type": "code",
   "execution_count": 10,
   "id": "7ce6b380",
   "metadata": {},
   "outputs": [
    {
     "name": "stdout",
     "output_type": "stream",
     "text": [
      "Train score: 0.6833333333333333\n",
      "Test score: 0.61\n"
     ]
    }
   ],
   "source": [
    "print('Train score:', get_acc(xgb_forest, X_train, y_train, feature_names))\n",
    "print('Test score:', get_acc(xgb_forest, X_test, y_test, feature_names))"
   ]
  },
  {
   "cell_type": "code",
   "execution_count": 11,
   "id": "97a1d2b0",
   "metadata": {},
   "outputs": [],
   "source": [
    "import shap\n",
    "import pandas as pd\n",
    "explainer = shap.Explainer(xgb_forest)\n",
    "\n",
    "shap_values = explainer(pd.DataFrame(X_test, columns=feature_names))"
   ]
  },
  {
   "cell_type": "code",
   "execution_count": 12,
   "id": "8e7a54a8",
   "metadata": {},
   "outputs": [
    {
     "data": {
      "image/png": "[encoded data removed]",
      "text/plain": [
       "<Figure size 288x72 with 2 Axes>"
      ]
     },
     "metadata": {},
     "output_type": "display_data"
    }
   ],
   "source": [
    "# Beeswarm plot\n",
    "if split_on_income:\n",
    "    dropped_feature = 'income'\n",
    "else:\n",
    "    dropped_feature = 'sex'\n",
    "    \n",
    "shap.plots.beeswarm(shap_values, show=False)\n",
    "\n",
    "fig = plt.gcf()\n",
    "fig.set_size_inches(4, 1, forward=True)\n",
    "if save_figures: plt.savefig(\n",
    "    figure_dir / f'adult-income-split-on-{dropped_feature}-SHAP-baseline.{save_parms[\"format\"]}',\n",
    "    **save_parms,\n",
    "    transparent=True\n",
    "    )\n",
    "plt.show()"
   ]
  }
 ],
 "metadata": {
  "kernelspec": {
   "display_name": "Python 3.7.11 ('py37')",
   "language": "python",
   "name": "python3"
  },
  "language_info": {
   "codemirror_mode": {
    "name": "ipython",
    "version": 3
   },
   "file_extension": ".py",
   "mimetype": "text/x-python",
   "name": "python",
   "nbconvert_exporter": "python",
   "pygments_lexer": "ipython3",
   "version": "3.7.11"
  },
  "vscode": {
   "interpreter": {
    "hash": "5ab0220f0ca30ec7bac8a7e209564eceae6d15412b9f87f3c2f91206aa8b151c"
   }
  }
 },
 "nbformat": 4,
 "nbformat_minor": 5
}
